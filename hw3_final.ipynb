{
  "nbformat": 4,
  "nbformat_minor": 0,
  "metadata": {
    "kernelspec": {
      "name": "python3",
      "display_name": "Python 3"
    },
    "colab": {
      "name": "hw3.ipynb",
      "provenance": [],
      "collapsed_sections": []
    },
    "accelerator": "GPU"
  },
  "cells": [
    {
      "cell_type": "code",
      "metadata": {
        "id": "KmhimMqG9cH3",
        "colab_type": "code",
        "outputId": "3717b04f-97dc-4193-a7e5-82ebeee82d02",
        "colab": {
          "base_uri": "https://localhost:8080/",
          "height": 124
        }
      },
      "source": [
        "from google.colab import drive\n",
        "drive.mount('/content/drive')"
      ],
      "execution_count": 1,
      "outputs": [
        {
          "output_type": "stream",
          "text": [
            "Go to this URL in a browser: https://accounts.google.com/o/oauth2/auth?client_id=947318989803-6bn6qk8qdgf4n4g3pfee6491hc0brc4i.apps.googleusercontent.com&redirect_uri=urn%3Aietf%3Awg%3Aoauth%3A2.0%3Aoob&scope=email%20https%3A%2F%2Fwww.googleapis.com%2Fauth%2Fdocs.test%20https%3A%2F%2Fwww.googleapis.com%2Fauth%2Fdrive%20https%3A%2F%2Fwww.googleapis.com%2Fauth%2Fdrive.photos.readonly%20https%3A%2F%2Fwww.googleapis.com%2Fauth%2Fpeopleapi.readonly&response_type=code\n",
            "\n",
            "Enter your authorization code:\n",
            "··········\n",
            "Mounted at /content/drive\n"
          ],
          "name": "stdout"
        }
      ]
    },
    {
      "cell_type": "code",
      "metadata": {
        "id": "GjaLJRhu9e6h",
        "colab_type": "code",
        "colab": {}
      },
      "source": [
        "import os\n",
        "os.chdir(\"/content/drive/My Drive/hw3\")"
      ],
      "execution_count": 0,
      "outputs": []
    },
    {
      "cell_type": "markdown",
      "metadata": {
        "id": "9Nu0Gx608_A3",
        "colab_type": "text"
      },
      "source": [
        "---   \n",
        "# HW3 - Transfer learning\n",
        "\n",
        "#### Due October 30, 2019\n",
        "\n",
        "In this assignment you will learn about transfer learning. This technique is perhaps one of the most important techniques for industry. When a problem you want to solve does not have enough data, we use a different (larger) dataset to learn representations which can help us solve our task using the smaller task.\n",
        "\n",
        "The general steps to transfer learning are as follows:\n",
        "\n",
        "1. Find a huge dataset with similar characteristics to the problem you are interested in.\n",
        "2. Choose a model powerful enough to extract meaningful representations from the huge dataset.\n",
        "3. Train this model on the huge dataset.\n",
        "4. Use this model to train on the smaller dataset.\n",
        "\n",
        "\n",
        "### This homework has the following sections:\n",
        "1. Question 1: MNIST fine-tuning (Parts A, B, C, D).\n",
        "2. Question 2: Pretrain on Wikitext2 (Part A, B, C, D)\n",
        "3. Question 3: Finetune on MNLI (Part A, B, C, D)\n",
        "4. Question 4: Finetune using pretrained BERT (Part A, B, C)"
      ]
    },
    {
      "cell_type": "markdown",
      "metadata": {
        "id": "hBBU_QKo8_A4",
        "colab_type": "text"
      },
      "source": [
        "---   \n",
        "## Question 1 (MNIST transfer learning)\n",
        "To grasp the high-level approach to transfer learning, let's first do a simple example using computer vision. \n",
        "\n",
        "The torchvision library has pretrained models (resnets, vggnets, etc) on the Imagenet dataset. Imagenet is a dataset\n",
        "with 1.3 million images covering over 1000 classes of objects. When you use one of these models, the weights of the model initialize\n",
        "with the weights saved from training on imagenet.\n",
        "\n",
        "In this task we will:\n",
        "1. Choose a pretrained model.\n",
        "2. Freeze the model so that the weights don't change.\n",
        "3. Fine-tune on a few labels of MNIST.   "
      ]
    },
    {
      "cell_type": "markdown",
      "metadata": {
        "id": "QuP0oHDJ8_A5",
        "colab_type": "text"
      },
      "source": [
        "#### Choose a model\n",
        "Here we pick any of the models from torchvision"
      ]
    },
    {
      "cell_type": "code",
      "metadata": {
        "id": "H6_qcHbpvGG2",
        "colab_type": "code",
        "colab": {}
      },
      "source": [
        "import torch\n",
        "num_gpus = torch.cuda.device_count()\n",
        "if num_gpus > 0:\n",
        "    current_device = 'cuda'\n",
        "else:\n",
        "    current_device = 'cpu'"
      ],
      "execution_count": 0,
      "outputs": []
    },
    {
      "cell_type": "code",
      "metadata": {
        "id": "04jm0GMq8_A6",
        "colab_type": "code",
        "colab": {
          "base_uri": "https://localhost:8080/",
          "height": 52
        },
        "outputId": "0bff8288-94c6-4a4f-fec8-f8d5a7d310f4"
      },
      "source": [
        "import torchvision.models as models\n",
        "\n",
        "class Identity(torch.nn.Module):\n",
        "    def __init__(self):\n",
        "        super(Identity, self).__init__()\n",
        "        \n",
        "    def forward(self, x):\n",
        "        return x\n",
        "\n",
        "# init the pretrained feature extractor\n",
        "pretrained_resnet18 = models.resnet18(pretrained=True).to(current_device)\n",
        "\n",
        "# we don't want the built in last layer, we're going to modify it ourselves\n",
        "pretrained_resnet18.fc = Identity()"
      ],
      "execution_count": 4,
      "outputs": [
        {
          "output_type": "stream",
          "text": [
            "Downloading: \"https://download.pytorch.org/models/resnet18-5c106cde.pth\" to /root/.cache/torch/checkpoints/resnet18-5c106cde.pth\n",
            "100%|██████████| 44.7M/44.7M [00:00<00:00, 56.8MB/s]\n"
          ],
          "name": "stderr"
        }
      ]
    },
    {
      "cell_type": "code",
      "metadata": {
        "id": "nCBLFQX5nB0U",
        "colab_type": "code",
        "outputId": "63278099-0461-49ec-bd77-fc3994668ceb",
        "colab": {
          "base_uri": "https://localhost:8080/",
          "height": 35
        }
      },
      "source": [
        "pretrained_resnet18.fc"
      ],
      "execution_count": 5,
      "outputs": [
        {
          "output_type": "execute_result",
          "data": {
            "text/plain": [
              "Identity()"
            ]
          },
          "metadata": {
            "tags": []
          },
          "execution_count": 5
        }
      ]
    },
    {
      "cell_type": "markdown",
      "metadata": {
        "id": "iL509LN48_A8",
        "colab_type": "text"
      },
      "source": [
        "#### Freeze the model\n",
        "Here we freeze the weights of the model. Freezing means the gradients will not backpropagate\n",
        "into these weights.\n",
        "\n",
        "By doing this you can think about the model as a feature extractor. This feature extractor outputs\n",
        "a **representation** of an input. This representation is a matrix that encodes information about the input."
      ]
    },
    {
      "cell_type": "code",
      "metadata": {
        "id": "WVRX0Uaz8_A9",
        "colab_type": "code",
        "colab": {}
      },
      "source": [
        "def freeze_model(model):\n",
        "    for param in model.parameters():\n",
        "        param.requires_grad = False\n",
        "        \n",
        "def unfreeze_model(model):\n",
        "    for param in model.parameters():\n",
        "        param.requires_grad = True\n",
        "        \n",
        "freeze_model(pretrained_resnet18)"
      ],
      "execution_count": 0,
      "outputs": []
    },
    {
      "cell_type": "markdown",
      "metadata": {
        "id": "THZBCgJr8_A_",
        "colab_type": "text"
      },
      "source": [
        "#### Init target dataset\n",
        "Here we define the dataset we are actually interested in."
      ]
    },
    {
      "cell_type": "code",
      "metadata": {
        "id": "-AwgTsmj8_BB",
        "colab_type": "code",
        "colab": {}
      },
      "source": [
        "import os\n",
        "from torchvision import transforms\n",
        "from torchvision.datasets import  MNIST\n",
        "from torch.utils.data import DataLoader, random_split\n",
        "import torch.nn.functional as F\n",
        "\n",
        "#  train/val  split\n",
        "transform = transforms.Compose([transforms.Grayscale(3),\n",
        "    transforms.ToTensor()\n",
        "])\n",
        "mnist_dataset = MNIST(os.getcwd(), train=True, download=True, transform=transform)\n",
        "mnist_train, mnist_val = random_split(mnist_dataset, [55000, 5000])\n",
        "\n",
        "mnist_train = DataLoader(mnist_train, batch_size=32)\n",
        "mnist_val = DataLoader(mnist_val, batch_size=32)\n",
        "\n",
        "# test split\n",
        "mnist_test = DataLoader(MNIST(os.getcwd(), train=False, download=True, transform=transform), batch_size=32)"
      ],
      "execution_count": 0,
      "outputs": []
    },
    {
      "cell_type": "code",
      "metadata": {
        "id": "4D_-OlE7xe5p",
        "colab_type": "code",
        "outputId": "b8b1b63d-60ef-4d38-e849-a688dd42aa9c",
        "colab": {
          "base_uri": "https://localhost:8080/",
          "height": 52
        }
      },
      "source": [
        "for images, labels in mnist_train:  \n",
        "    print('Image batch dimensions:', images.shape)\n",
        "    print('Image label dimensions:', labels.shape)\n",
        "    break"
      ],
      "execution_count": 8,
      "outputs": [
        {
          "output_type": "stream",
          "text": [
            "Image batch dimensions: torch.Size([32, 3, 28, 28])\n",
            "Image label dimensions: torch.Size([32])\n"
          ],
          "name": "stdout"
        }
      ]
    },
    {
      "cell_type": "markdown",
      "metadata": {
        "id": "Uke49ruY8_BD",
        "colab_type": "text"
      },
      "source": [
        "### Part A (init fine-tune model)\n",
        "decide what model to use for fine-tuning"
      ]
    },
    {
      "cell_type": "code",
      "metadata": {
        "id": "D3C69zAcnbc_",
        "colab_type": "code",
        "colab": {}
      },
      "source": [
        "class MLP(torch.nn.Module):\n",
        "    def __init__(self, D_in, H, D_out):\n",
        "        \"\"\"\n",
        "        In the constructor we instantiate two nn.Linear modules and assign them as\n",
        "        member variables.\n",
        "        \"\"\"\n",
        "        super(MLP, self).__init__()\n",
        "        self.fc1 = torch.nn.Linear(D_in, H)\n",
        "        self.relu = torch.nn.ReLU()\n",
        "        self.projection = torch.nn.Linear(H, D_out)\n",
        "\n",
        "    def forward(self, x):\n",
        "        \"\"\"\n",
        "        In the forward function we accept a Tensor of input data and we must return\n",
        "        a Tensor of output data. We can use Modules defined in the constructor as\n",
        "        well as arbitrary operators on Tensors.\n",
        "        \"\"\"\n",
        "        out = self.fc1(x)\n",
        "        out = self.relu(out)\n",
        "        out = self.projection(out)\n",
        "        return out"
      ],
      "execution_count": 0,
      "outputs": []
    },
    {
      "cell_type": "code",
      "metadata": {
        "id": "_UAK24Qb8_BE",
        "colab_type": "code",
        "colab": {}
      },
      "source": [
        "def init_fine_tune_model():\n",
        "    \n",
        "    # YOUR CODE HERE\n",
        "    fine_tune_model = MLP(512,256,10).to(current_device)\n",
        "    return fine_tune_model"
      ],
      "execution_count": 0,
      "outputs": []
    },
    {
      "cell_type": "markdown",
      "metadata": {
        "id": "nWRIH4q88_BG",
        "colab_type": "text"
      },
      "source": [
        "### Part B (Fine-tune (Frozen))\n",
        "\n",
        "The actual problem we care about solving likely has a different number of classes or is a different task altogether. Fine-tuning is the process of using the extracted representations (features) to solve this downstream task  (the task you're interested in).\n",
        "\n",
        "To illustrate this, we'll use our pretrained model (on Imagenet), to solve the MNIST classification task.\n",
        "\n",
        "There are two types of finetuning. \n",
        "\n",
        "#### 1. Frozen feature_extractor\n",
        "In the first type we pretrain with the FROZEN feature_extractor and NEVER unfreeze it during finetuning.\n",
        "\n",
        "\n",
        "#### 2. Unfrozen feature_extractor\n",
        "In the second, we finetune with a FROZEN feature_extractor for a few epochs, then unfreeze the feature extractor and finish training.\n",
        "\n",
        "\n",
        "In this part we will use the first version"
      ]
    },
    {
      "cell_type": "code",
      "metadata": {
        "id": "RowMzQswId6Z",
        "colab_type": "code",
        "colab": {}
      },
      "source": [
        "import numpy as np\n",
        "\n",
        "class EarlyStopping:\n",
        "    \"\"\"Early stops the training if validation loss doesn't improve after a given patience.\"\"\"\n",
        "    def __init__(self, unfrozen,patience=5, verbose=False, delta=0,name = 'RNN_'):\n",
        "        \"\"\"\n",
        "        Args:\n",
        "            patience (int): How long to wait after last time validation loss improved.\n",
        "                            Default: 7\n",
        "            verbose (bool): If True, prints a message for each validation loss improvement. \n",
        "                            Default: False\n",
        "            delta (float): Minimum change in the monitored quantity to qualify as an improvement.\n",
        "                            Default: 0\n",
        "        \"\"\"\n",
        "        self.patience = patience\n",
        "        self.verbose = verbose\n",
        "        self.counter = 0\n",
        "        self.best_score = None\n",
        "        self.early_stop = False\n",
        "        self.val_loss_min = np.Inf\n",
        "        self.delta = delta\n",
        "        self.name = name\n",
        "        self.unfrozen = unfrozen\n",
        "\n",
        "    def __call__(self, val_loss, model, extractor):\n",
        "\n",
        "        score = -val_loss\n",
        "\n",
        "        if self.best_score is None:\n",
        "            self.best_score = score\n",
        "            self.save_checkpoint(val_loss, model, extractor)\n",
        "        elif score < self.best_score - self.delta:\n",
        "            self.counter += 1\n",
        "            print(f'EarlyStopping counter: {self.counter} out of {self.patience}')\n",
        "            if self.counter >= self.patience:\n",
        "                self.early_stop = True\n",
        "        else:\n",
        "            self.best_score = score\n",
        "            self.save_checkpoint(val_loss, model, extractor)\n",
        "            self.counter = 0\n",
        "\n",
        "    def save_checkpoint(self, val_loss, model, extractor):\n",
        "        '''Saves model when validation loss decrease.'''\n",
        "        if self.verbose:\n",
        "            print(f'Validation loss decreased ({self.val_loss_min:.6f} --> {val_loss:.6f}).  Saving model ...')\n",
        "        torch.save(model.state_dict(), self.name+'checkpoint.pt')\n",
        "        if self.unfrozen:\n",
        "          torch.save(extractor.state_dict(), self.name+'extractor_checkpoint.pt')\n",
        "        self.val_loss_min = val_loss\n",
        "        \n",
        "patience = 5\n",
        "early_stopping = EarlyStopping(unfrozen=True,patience=patience, verbose=True,name=\"MLP_frozen_\")\n"
      ],
      "execution_count": 0,
      "outputs": []
    },
    {
      "cell_type": "code",
      "metadata": {
        "id": "juBRpd_58_BG",
        "colab_type": "code",
        "colab": {}
      },
      "source": [
        "import torch.optim as optim\n",
        "plot_cache = []\n",
        "def FROZEN_fine_tune_mnist(feature_extractor, fine_tune_model, mnist_train, mnist_val,num_epochs=10):\n",
        "    \"\"\"\n",
        "    model is a feature extractor (resnet).\n",
        "    Create a new model which uses those features to finetune on MNIST\n",
        "    \n",
        "    return the fine_tune model\n",
        "    \"\"\"     \n",
        "\n",
        "    for epoch_number in range(num_epochs):\n",
        "        avg_loss=0\n",
        "        # do train\n",
        "        feature_extractor.train()\n",
        "        fine_tune_model.train()\n",
        "        train_log_cache = []\n",
        "        for i, (inp, target) in enumerate(mnist_train):\n",
        "            optimizer.zero_grad()\n",
        "            inp = inp.to(current_device)\n",
        "            target = target.to(current_device)\n",
        "            out = feature_extractor(inp)\n",
        "            logits = fine_tune_model(out)\n",
        "            \n",
        "            loss = criterion(logits.view(-1, logits.size(-1)), target.view(-1))\n",
        "            \n",
        "            loss.backward()\n",
        "            optimizer.step()\n",
        "            \n",
        "            train_log_cache.append(loss.item())\n",
        "            \n",
        "            if i % 100 == 0:\n",
        "                avg_loss = sum(train_log_cache)/len(train_log_cache)\n",
        "                print('Step {} avg train loss = {:.{prec}f}'.format(i, avg_loss, prec=4))\n",
        "                train_log_cache = []\n",
        "            \n",
        "        #do valid\n",
        "        valid_losses = []\n",
        "        feature_extractor.eval()\n",
        "        fine_tune_model.eval()\n",
        "        with torch.no_grad():\n",
        "            for i, (inp, target) in enumerate(mnist_val):\n",
        "                inp = inp.to(current_device)\n",
        "                target = target.to(current_device)\n",
        "                out = feature_extractor(inp)\n",
        "                logits = fine_tune_model(out)\n",
        "\n",
        "                loss = criterion(logits.view(-1, logits.size(-1)), target.view(-1))\n",
        "                valid_losses.append(loss.item())\n",
        "            avg_val_loss = sum(valid_losses) / len(valid_losses)\n",
        "            print('Validation loss after {} epoch = {:.{prec}f}'.format(epoch_number, avg_val_loss, prec=4))\n",
        "        \n",
        "        plot_cache.append((avg_loss, avg_val_loss))\n",
        "    \n",
        "        early_stopping(avg_val_loss, fine_tune_model,feature_extractor)\n",
        "        torch.save({\n",
        "            'loss_cache': plot_cache,\n",
        "        }, './fine_tune_model_frozen.pt')\n",
        "\n",
        "        if early_stopping.early_stop:\n",
        "            print(\"Early stopping\")\n",
        "            break"
      ],
      "execution_count": 0,
      "outputs": []
    },
    {
      "cell_type": "code",
      "metadata": {
        "id": "Cg5Xr3Mv2Ig8",
        "colab_type": "code",
        "colab": {}
      },
      "source": [
        "fine_tune_model = init_fine_tune_model()\n",
        "fine_tune_model.to(current_device)\n",
        "pretrained_resnet18 = models.resnet18(pretrained=True).to(current_device)\n",
        "pretrained_resnet18.fc = Identity()\n",
        "freeze_model(pretrained_resnet18)\n",
        "feature_extractor = pretrained_resnet18.to(current_device)\n",
        "criterion = torch.nn.CrossEntropyLoss()\n",
        "fine_tune_model_parameters = list(feature_extractor.parameters()) + list(fine_tune_model.parameters())\n",
        "optimizer = optim.Adam(filter(lambda p: p.requires_grad, fine_tune_model_parameters))"
      ],
      "execution_count": 0,
      "outputs": []
    },
    {
      "cell_type": "markdown",
      "metadata": {
        "id": "okYU51dc8_BI",
        "colab_type": "text"
      },
      "source": [
        "### Part C (compute test accuracy)\n",
        "Compute the test accuracy of fine-tuned model on MNIST"
      ]
    },
    {
      "cell_type": "code",
      "metadata": {
        "id": "_3D0uDGk3_R7",
        "colab_type": "code",
        "colab": {}
      },
      "source": [
        "def calculate_mnist_test_accuracy(feature_extractor, fine_tune_model, mnist_test):\n",
        "    correct = 0\n",
        "    total = 0\n",
        "    feature_extractor.eval()\n",
        "    fine_tune_model.eval()\n",
        "    for data, labels in mnist_test:\n",
        "        data = data.to(current_device)\n",
        "        labels = labels.to(current_device)\n",
        "        out = feature_extractor(data)\n",
        "        out = fine_tune_model(out)\n",
        "        outputs = F.softmax(out, dim=1)\n",
        "        predicted = outputs.max(1, keepdim=True)[1]\n",
        "        \n",
        "        total += labels.size(0)\n",
        "        correct += predicted.eq(labels.view_as(predicted).to(current_device)).sum().item()\n",
        "    return 100 * correct / total"
      ],
      "execution_count": 0,
      "outputs": []
    },
    {
      "cell_type": "code",
      "metadata": {
        "id": "V0CgNcVj6DSG",
        "colab_type": "code",
        "outputId": "059e8be8-819e-4365-eabd-24eb93ffc5f1",
        "colab": {
          "base_uri": "https://localhost:8080/",
          "height": 35
        }
      },
      "source": [
        " calculate_mnist_test_accuracy(feature_extractor, fine_tune_model, mnist_test)"
      ],
      "execution_count": 15,
      "outputs": [
        {
          "output_type": "execute_result",
          "data": {
            "text/plain": [
              "8.68"
            ]
          },
          "metadata": {
            "tags": []
          },
          "execution_count": 15
        }
      ]
    },
    {
      "cell_type": "markdown",
      "metadata": {
        "id": "oKbHVVUg8_BL",
        "colab_type": "text"
      },
      "source": [
        "### Grade!\n",
        "Let's see how you did"
      ]
    },
    {
      "cell_type": "code",
      "metadata": {
        "id": "XNLKZRPqWhZY",
        "colab_type": "code",
        "colab": {}
      },
      "source": [
        "load_pretrained = True"
      ],
      "execution_count": 0,
      "outputs": []
    },
    {
      "cell_type": "code",
      "metadata": {
        "id": "9FmMaCM-8_BL",
        "colab_type": "code",
        "colab": {}
      },
      "source": [
        "def grade_mnist_frozen():\n",
        "    \n",
        "    # # init a ft model\n",
        "    # fine_tune_model = init_fine_tune_model()\n",
        "    \n",
        "    # run the transfer learning routine\n",
        "    if not load_pretrained:\n",
        "        FROZEN_fine_tune_mnist(feature_extractor, fine_tune_model, mnist_train, mnist_val,num_epochs=10)\n",
        "    \n",
        "    feature_extractor_load = models.resnet18(pretrained=False)\n",
        "    feature_extractor_load.fc = Identity()\n",
        "    feature_extractor_load.load_state_dict(torch.load(\"MLP_frozen_extractor_checkpoint.pt\"))\n",
        "    feature_extractor_load.to(current_device)\n",
        "\n",
        "    fine_tune_model_load = init_fine_tune_model()\n",
        "    fine_tune_model_load.load_state_dict(torch.load(\"MLP_frozen_checkpoint.pt\"))\n",
        "    fine_tune_model_load.to(current_device)\n",
        "    # calculate test accuracy\n",
        "    test_accuracy = calculate_mnist_test_accuracy(feature_extractor_load, fine_tune_model_load, mnist_test)\n",
        "    \n",
        "    # the real threshold will be released by Oct 11 \n",
        "    assert test_accuracy > 0.0, 'your accuracy is too low...'\n",
        "    \n",
        "    return test_accuracy\n",
        "    \n",
        "frozen_test_accuracy = grade_mnist_frozen()"
      ],
      "execution_count": 0,
      "outputs": []
    },
    {
      "cell_type": "code",
      "metadata": {
        "id": "z-OUJAT_JM6-",
        "colab_type": "code",
        "outputId": "ae0a77e3-e973-4bfe-f233-69a9a1186cfa",
        "colab": {
          "base_uri": "https://localhost:8080/",
          "height": 35
        }
      },
      "source": [
        "frozen_test_accuracy"
      ],
      "execution_count": 18,
      "outputs": [
        {
          "output_type": "execute_result",
          "data": {
            "text/plain": [
              "78.99"
            ]
          },
          "metadata": {
            "tags": []
          },
          "execution_count": 18
        }
      ]
    },
    {
      "cell_type": "code",
      "metadata": {
        "id": "WeGY1BtmaBoR",
        "colab_type": "code",
        "colab": {
          "base_uri": "https://localhost:8080/",
          "height": 52
        },
        "outputId": "d2913b96-6369-4044-c568-e18672ee102f"
      },
      "source": [
        "!md5sum \"MLP_frozen_extractor_checkpoint.pt\"\n",
        "!md5sum \"MLP_frozen_checkpoint.pt\""
      ],
      "execution_count": 19,
      "outputs": [
        {
          "output_type": "stream",
          "text": [
            "f8e8d97515bc8b3458ff69158b9e2c15  MLP_frozen_extractor_checkpoint.pt\n",
            "2f6dafdf2a7fedc33287032f638f5c20  MLP_frozen_checkpoint.pt\n"
          ],
          "name": "stdout"
        }
      ]
    },
    {
      "cell_type": "markdown",
      "metadata": {
        "id": "-cozAYuc8_BN",
        "colab_type": "text"
      },
      "source": [
        "### Part D (Fine-tune Unfrozen)\n",
        "Now we'll learn how to train using the \"unfrozen\" approach.\n",
        "\n",
        "In this approach we'll:\n",
        "1. keep the feature_extract frozen for a few epochs (10)\n",
        "2. Unfreeze it.\n",
        "3. Finish training"
      ]
    },
    {
      "cell_type": "code",
      "metadata": {
        "id": "Xb7ujt1jnzJu",
        "colab_type": "code",
        "colab": {}
      },
      "source": [
        "pretrained_resnet18_unfrozen = models.resnet18(pretrained=True).to(current_device)\n",
        "pretrained_resnet18_unfrozen.fc = Identity()\n",
        "freeze_model(pretrained_resnet18_unfrozen)\n",
        "\n",
        "\n",
        "fine_tune_model_2 = init_fine_tune_model()\n",
        "fine_tune_model_2.to(current_device)\n",
        "feature_extractor_2 = pretrained_resnet18_unfrozen.to(current_device)\n",
        "patience = 5\n",
        "early_stopping_unfrozen = EarlyStopping(unfrozen=True, patience=patience, verbose=True,name=\"MLP_unfrozen_\")"
      ],
      "execution_count": 0,
      "outputs": []
    },
    {
      "cell_type": "code",
      "metadata": {
        "id": "aWe9yWQY8_BO",
        "colab_type": "code",
        "colab": {}
      },
      "source": [
        "def UNFROZEN_fine_tune_mnist(feature_extractor, fine_tune_model, mnist_train, mnist_val,num_epochs=50):\n",
        "    \"\"\"\n",
        "    model is a feature extractor (resnet).\n",
        "    Create a new model which uses those features to finetune on MNIST\n",
        "    \n",
        "    return the fine_tune model\n",
        "    \"\"\"     \n",
        "    \n",
        "    # INSERT YOUR CODE:\n",
        "    # keep frozen for 10 epochs\n",
        "    # ... train\n",
        "    # unfreeze\n",
        "    # train for rest of the time\n",
        "    criterion_unfrozen = torch.nn.CrossEntropyLoss()\n",
        "    fine_tune_model_parameters_unfrozen = list(feature_extractor.parameters()) + list(fine_tune_model.parameters())\n",
        "    optimizer_unfrozen = optim.Adam(filter(lambda p: p.requires_grad, fine_tune_model_parameters_unfrozen))\n",
        "    for epoch_number in range(10):\n",
        "        avg_loss=0\n",
        "        fine_tune_model.train()\n",
        "        feature_extractor.train()\n",
        "        train_log_cache = []\n",
        "        for i, (inp, target) in enumerate(mnist_train):\n",
        "            optimizer_unfrozen.zero_grad()\n",
        "            inp = inp.to(current_device)\n",
        "            target = target.to(current_device)\n",
        "            inp = feature_extractor(inp)\n",
        "            logits = fine_tune_model(inp)\n",
        "            \n",
        "            loss = criterion_unfrozen(logits.view(-1, logits.size(-1)), target.view(-1))\n",
        "            \n",
        "            loss.backward()\n",
        "            optimizer_unfrozen.step()\n",
        "            \n",
        "            train_log_cache.append(loss.item())\n",
        "            \n",
        "            if i % 100 == 0:\n",
        "                avg_loss = sum(train_log_cache)/len(train_log_cache)\n",
        "                print('Step {} avg train loss = {:.{prec}f}'.format(i, avg_loss, prec=4))\n",
        "                train_log_cache = []\n",
        "            \n",
        "        #do valid\n",
        "        valid_losses = []\n",
        "        fine_tune_model.eval()\n",
        "        feature_extractor.eval()\n",
        "        with torch.no_grad():\n",
        "            for i, (inp, target) in enumerate(mnist_val):\n",
        "                inp = inp.to(current_device)\n",
        "                target = target.to(current_device)\n",
        "                inp = feature_extractor(inp)\n",
        "                logits = fine_tune_model(inp)\n",
        "\n",
        "                loss = criterion_unfrozen(logits.view(-1, logits.size(-1)), target.view(-1))\n",
        "                valid_losses.append(loss.item())\n",
        "            avg_val_loss = sum(valid_losses) / len(valid_losses)\n",
        "            print('Validation loss after {} epoch = {:.{prec}f}'.format(epoch_number, avg_val_loss, prec=4))\n",
        "        \n",
        "        plot_cache.append((avg_loss, avg_val_loss))\n",
        "    \n",
        "    unfreeze_model(feature_extractor)\n",
        "    fine_tune_model_parameters_unfrozen2 = list(feature_extractor.parameters()) + list(fine_tune_model.parameters())\n",
        "    optimizer_unfrozen2 = optim.Adam(filter(lambda p: p.requires_grad, fine_tune_model_parameters_unfrozen2))\n",
        "    \n",
        "    \n",
        "    for epoch_number in range(num_epochs):\n",
        "        avg_loss=0\n",
        "        fine_tune_model.train()\n",
        "        feature_extractor.train()\n",
        "        train_log_cache = []\n",
        "        for i, (inp, target) in enumerate(mnist_train):\n",
        "            optimizer_unfrozen2.zero_grad()\n",
        "            inp = inp.to(current_device)\n",
        "            target = target.to(current_device)\n",
        "            inp = feature_extractor(inp)\n",
        "            logits = fine_tune_model(inp)\n",
        "            \n",
        "            loss = criterion_unfrozen(logits.view(-1, logits.size(-1)), target.view(-1))\n",
        "            \n",
        "            loss.backward()\n",
        "            optimizer_unfrozen2.step()\n",
        "            \n",
        "            train_log_cache.append(loss.item())\n",
        "            \n",
        "            if i % 100 == 0:\n",
        "                avg_loss = sum(train_log_cache)/len(train_log_cache)\n",
        "                print('Step {} avg train loss = {:.{prec}f}'.format(i, avg_loss, prec=4))\n",
        "                train_log_cache = []\n",
        "        #do valid\n",
        "        valid_losses = []\n",
        "        fine_tune_model.eval()\n",
        "        feature_extractor.eval()\n",
        "        with torch.no_grad():\n",
        "            for i, (inp, target) in enumerate(mnist_val):\n",
        "                inp = inp.to(current_device)\n",
        "                target = target.to(current_device)\n",
        "                inp = feature_extractor(inp)\n",
        "                logits = fine_tune_model(inp)\n",
        "\n",
        "                loss = criterion_unfrozen(logits.view(-1, logits.size(-1)), target.view(-1))\n",
        "                valid_losses.append(loss.item())\n",
        "            avg_val_loss = sum(valid_losses) / len(valid_losses)\n",
        "            print('Validation loss after {} epoch = {:.{prec}f}'.format(epoch_number, avg_val_loss, prec=4))\n",
        "        \n",
        "        plot_cache.append((avg_loss, avg_val_loss))\n",
        "                \n",
        "        early_stopping_unfrozen(avg_val_loss, fine_tune_model,feature_extractor)\n",
        "        torch.save({\n",
        "            'loss_cache': plot_cache\n",
        "        }, './fine_tune_model_unfrozen.pt')\n",
        "    \n",
        "    \n",
        "        if early_stopping_unfrozen.early_stop:\n",
        "            print(\"Early stopping\")\n",
        "            break\n",
        "    "
      ],
      "execution_count": 0,
      "outputs": []
    },
    {
      "cell_type": "markdown",
      "metadata": {
        "id": "IrmK7Jhl8_BQ",
        "colab_type": "text"
      },
      "source": [
        "### Grade UNFROZEN\n",
        "Let's see if there's a difference in accuracy!"
      ]
    },
    {
      "cell_type": "code",
      "metadata": {
        "id": "RocCaYXYGMX7",
        "colab_type": "code",
        "colab": {}
      },
      "source": [
        "load_pretrained=True"
      ],
      "execution_count": 0,
      "outputs": []
    },
    {
      "cell_type": "code",
      "metadata": {
        "id": "wXBCK5hU8_BQ",
        "colab_type": "code",
        "colab": {}
      },
      "source": [
        "def grade_mnist_unfrozen():\n",
        "    \n",
        "    # init a ft model\n",
        "    # fine_tune_model = init_fine_tune_model()\n",
        "    \n",
        "    # run the transfer learning routine\n",
        "    if not load_pretrained:\n",
        "        UNFROZEN_fine_tune_mnist(feature_extractor_2, fine_tune_model_2, mnist_train, mnist_val)\n",
        "    \n",
        "    feature_extractor_2_load = models.resnet18(pretrained=False)\n",
        "    feature_extractor_2_load.fc = Identity()\n",
        "    feature_extractor_2_load.load_state_dict(torch.load(\"MLP_unfrozen_extractor_checkpoint.pt\"))\n",
        "    feature_extractor_2_load.to(current_device)\n",
        "    \n",
        "    fine_tune_model_2_load = init_fine_tune_model()\n",
        "    fine_tune_model_2_load.load_state_dict(torch.load(\"MLP_unfrozen_checkpoint.pt\"))\n",
        "    fine_tune_model_2_load.to(current_device)\n",
        "    # calculate test accuracy\n",
        "    test_accuracy = calculate_mnist_test_accuracy(feature_extractor_2_load, fine_tune_model_2_load, mnist_test)\n",
        "    \n",
        "    # the real threshold will be released by Oct 11 \n",
        "    assert test_accuracy > 0.0, 'your accuracy is too low...'\n",
        "    \n",
        "    return test_accuracy\n",
        "    \n",
        "unfrozen_test_accuracy = grade_mnist_unfrozen()"
      ],
      "execution_count": 0,
      "outputs": []
    },
    {
      "cell_type": "code",
      "metadata": {
        "id": "Sm7Kcw808_BS",
        "colab_type": "code",
        "colab": {}
      },
      "source": [
        "assert unfrozen_test_accuracy > frozen_test_accuracy, 'the unfrozen model should be better'"
      ],
      "execution_count": 0,
      "outputs": []
    },
    {
      "cell_type": "code",
      "metadata": {
        "id": "lv3O4lJC1Lxe",
        "colab_type": "code",
        "outputId": "cc16ec0f-68ee-4b18-b5b1-5f3b19cd1a03",
        "colab": {
          "base_uri": "https://localhost:8080/",
          "height": 35
        }
      },
      "source": [
        "print(\"unfrozen test accuracy is {0}\".format(unfrozen_test_accuracy))"
      ],
      "execution_count": 25,
      "outputs": [
        {
          "output_type": "stream",
          "text": [
            "unfrozen test accuracy is 99.16\n"
          ],
          "name": "stdout"
        }
      ]
    },
    {
      "cell_type": "code",
      "metadata": {
        "id": "Ph4o3sixaOWY",
        "colab_type": "code",
        "colab": {
          "base_uri": "https://localhost:8080/",
          "height": 52
        },
        "outputId": "cc87c59d-bd4f-4407-e992-c860dba83136"
      },
      "source": [
        "!md5sum \"MLP_unfrozen_extractor_checkpoint.pt\"\n",
        "!md5sum \"MLP_unfrozen_checkpoint.pt\""
      ],
      "execution_count": 26,
      "outputs": [
        {
          "output_type": "stream",
          "text": [
            "f3d6386b92407b070d43f1746d7f0879  MLP_unfrozen_extractor_checkpoint.pt\n",
            "d52bad4deb6fc31f323ce48780cb99e6  MLP_unfrozen_checkpoint.pt\n"
          ],
          "name": "stdout"
        }
      ]
    },
    {
      "cell_type": "markdown",
      "metadata": {
        "id": "C9MPhabC8_BU",
        "colab_type": "text"
      },
      "source": [
        "--- \n",
        "# Question 2 (train a model on Wikitext-2)\n",
        "\n",
        "Here we'll apply what we just learned to NLP. In this section we'll make our own feature extractor and pretrain it on Wikitext-2.\n",
        "\n",
        "The WikiText language modeling dataset is a collection of over 100 million tokens extracted from the set of verified Good and Featured articles on Wikipedia. The dataset is available under the Creative Commons Attribution-ShareAlike License.\n",
        "\n",
        "#### Part A\n",
        "In this section you need to generate the training, validation and test split. Feel free to use code from your previous lectures."
      ]
    },
    {
      "cell_type": "code",
      "metadata": {
        "id": "VlAp2uJS-f34",
        "colab_type": "code",
        "outputId": "da089d9c-0f32-420c-908d-372ae3f5afbc",
        "colab": {
          "base_uri": "https://localhost:8080/",
          "height": 104
        }
      },
      "source": [
        "!pip install jsonlines\n",
        "import pickle\n",
        "import os\n",
        "import io\n",
        "import json\n",
        "import jsonlines\n",
        "from tqdm import tqdm\n",
        "from collections import defaultdict\n",
        "from torch.utils.data import Dataset\n",
        "from torch.utils.data import DataLoader, random_split\n",
        "import torch.nn as nn\n",
        "import torch\n",
        "import torch.optim"
      ],
      "execution_count": 27,
      "outputs": [
        {
          "output_type": "stream",
          "text": [
            "Collecting jsonlines\n",
            "  Downloading https://files.pythonhosted.org/packages/4f/9a/ab96291470e305504aa4b7a2e0ec132e930da89eb3ca7a82fbe03167c131/jsonlines-1.2.0-py2.py3-none-any.whl\n",
            "Requirement already satisfied: six in /usr/local/lib/python3.6/dist-packages (from jsonlines) (1.12.0)\n",
            "Installing collected packages: jsonlines\n",
            "Successfully installed jsonlines-1.2.0\n"
          ],
          "name": "stdout"
        }
      ]
    },
    {
      "cell_type": "code",
      "metadata": {
        "id": "7NpbmH7D-iKG",
        "colab_type": "code",
        "colab": {}
      },
      "source": [
        "class Dictionary(object):\n",
        "    def __init__(self, datasets, include_valid=False):\n",
        "        self.tokens = []\n",
        "        self.ids = {}\n",
        "        self.counts = {}\n",
        "        \n",
        "        # add special tokens\n",
        "        self.add_token('<bos>')\n",
        "        self.add_token('<eos>')\n",
        "        self.add_token('<pad>')\n",
        "        self.add_token('<unk>')\n",
        "        \n",
        "        for line in tqdm(datasets['train']):\n",
        "            for w in line:\n",
        "                self.add_token(w)\n",
        "                    \n",
        "        if include_valid is True:\n",
        "            for line in tqdm(datasets['valid']):\n",
        "                for w in line:\n",
        "                    self.add_token(w)\n",
        "        # include test\n",
        "        for line in tqdm(datasets['test']):\n",
        "            for w in line:\n",
        "                self.add_token(w)\n",
        "        \n",
        "        \n",
        "    def add_token(self, w):\n",
        "        if w not in self.tokens:\n",
        "            self.tokens.append(w)\n",
        "            _w_id = len(self.tokens) - 1\n",
        "            self.ids[w] = _w_id\n",
        "            self.counts[w] = 1\n",
        "        else:\n",
        "            self.counts[w] += 1\n",
        "\n",
        "    def get_id(self, w):\n",
        "        return self.ids[w]\n",
        "    \n",
        "    def get_token(self, idx):\n",
        "        return self.tokens[idx]\n",
        "    \n",
        "    def decode_idx_seq(self, l):\n",
        "        return [self.tokens[i] for i in l]\n",
        "    \n",
        "    def encode_token_seq(self, l):\n",
        "        return [self.ids[i] if i in self.ids else self.ids['<unk>'] for i in l]\n",
        "    \n",
        "    def __len__(self):\n",
        "        return len(self.tokens)"
      ],
      "execution_count": 0,
      "outputs": []
    },
    {
      "cell_type": "code",
      "metadata": {
        "id": "2akWDFib-ixy",
        "colab_type": "code",
        "colab": {}
      },
      "source": [
        "def tokenize_dataset_wikitext(datasets, dictionary, ngram_order=2):\n",
        "    tokenized_datasets = {}\n",
        "    for split, dataset in datasets.items():\n",
        "        _current_dictified = []\n",
        "        for l in tqdm(dataset):\n",
        "            l = ['<bos>']*(ngram_order-1) + l + ['<eos>']\n",
        "            encoded_l = dictionary.encode_token_seq(l)\n",
        "            _current_dictified.append(encoded_l)\n",
        "        tokenized_datasets[split] = _current_dictified\n",
        "        \n",
        "    return tokenized_datasets"
      ],
      "execution_count": 0,
      "outputs": []
    },
    {
      "cell_type": "code",
      "metadata": {
        "id": "WSD2Oyj8ZNzA",
        "colab_type": "code",
        "outputId": "dbdec2ee-fa9f-4061-b41b-6d30eee0b90e",
        "colab": {
          "base_uri": "https://localhost:8080/",
          "height": 87
        }
      },
      "source": [
        "from torchtext.datasets import WikiText2\n",
        "def load_wikitext(filename='wikitext2-sentencized.json'):\n",
        "      if not os.path.exists(filename):\n",
        "        !wget \"https://nyu.box.com/shared/static/9kb7l7ci30hb6uahhbssjlq0kctr5ii4.json\" -O $filename\n",
        "    \n",
        "      datasets = json.load(open(filename, 'r'))\n",
        "      for name in datasets:\n",
        "          datasets[name] = [x.split() for x in datasets[name]]\n",
        "      vocab = list(set([t for ts in datasets['train'] for t in ts]))      \n",
        "      print(\"Vocab size: %d\" % (len(vocab)))\n",
        "      return datasets, vocab\n",
        "    \n",
        "datasets,vocab = load_wikitext()\n",
        "wikitext_dict = Dictionary(datasets, include_valid=True)\n"
      ],
      "execution_count": 30,
      "outputs": [
        {
          "output_type": "stream",
          "text": [
            "  1%|          | 511/78274 [00:00<00:15, 5102.63it/s]"
          ],
          "name": "stderr"
        },
        {
          "output_type": "stream",
          "text": [
            "Vocab size: 33175\n"
          ],
          "name": "stdout"
        },
        {
          "output_type": "stream",
          "text": [
            "100%|██████████| 78274/78274 [02:00<00:00, 647.92it/s]\n",
            "100%|██████████| 8464/8464 [00:09<00:00, 880.13it/s]\n",
            "100%|██████████| 9708/9708 [00:10<00:00, 919.04it/s]\n"
          ],
          "name": "stderr"
        }
      ]
    },
    {
      "cell_type": "code",
      "metadata": {
        "id": "ZKtzrJfW8_BV",
        "colab_type": "code",
        "colab": {}
      },
      "source": [
        "def init_wikitext_dataset(datasets):\n",
        "    \"\"\"\n",
        "    Fill in the details\n",
        "    \"\"\"\n",
        "    raw_train = datasets[\"train\"]\n",
        "    raw_val = datasets[\"valid\"]\n",
        "    raw_test = datasets[\"test\"]\n",
        "    \n",
        "    return raw_train,raw_val,raw_test\n"
      ],
      "execution_count": 0,
      "outputs": []
    },
    {
      "cell_type": "code",
      "metadata": {
        "id": "DtszoKiK-xtY",
        "colab_type": "code",
        "colab": {}
      },
      "source": [
        "wikitext_train,wikitext_val,wikitext_test = init_wikitext_dataset(datasets)"
      ],
      "execution_count": 0,
      "outputs": []
    },
    {
      "cell_type": "markdown",
      "metadata": {
        "id": "A0iGy9lG8_BW",
        "colab_type": "text"
      },
      "source": [
        "#### Part B   \n",
        "Here we design our own feature extractor. In MNIST that was a resnet because we were dealing with images. Now we need to pick a model that can model sequences better. Design an RNN-based model here."
      ]
    },
    {
      "cell_type": "code",
      "metadata": {
        "id": "WeV7Bc4q-zY-",
        "colab_type": "code",
        "colab": {}
      },
      "source": [
        "class LSTMLanguageModel(nn.Module):\n",
        "    \"\"\"\n",
        "    This model combines embedding, rnn and projection layer into a single model\n",
        "    \"\"\"\n",
        "    def __init__(self, options):\n",
        "        super().__init__()\n",
        "        \n",
        "        # create each LM part here \n",
        "        self.lookup = nn.Embedding(num_embeddings=options['num_embeddings'], embedding_dim=options['embedding_dim'], padding_idx=options['padding_idx'])\n",
        "        self.lstm = nn.LSTM(options['input_size'], options['hidden_size'], options['num_layers'], dropout=options['lstm_dropout'], batch_first=True)\n",
        "        self.projection = nn.Linear(options['hidden_size'], options['num_embeddings'])\n",
        "        \n",
        "    def forward(self, encoded_input_sequence):\n",
        "        \"\"\"\n",
        "        Forward method process the input from token ids to logits\n",
        "        \"\"\"\n",
        "        # |V| -> emb_dim\n",
        "        embeddings = self.lookup(encoded_input_sequence)\n",
        "        # emb_dim, hidden -> output, (h_n,c_n)     (hidden,hidden*num_layers)\n",
        "        lstm_outputs = self.lstm(embeddings)\n",
        "        logits = self.projection(lstm_outputs[0])\n",
        "        \n",
        "        return logits"
      ],
      "execution_count": 0,
      "outputs": []
    },
    {
      "cell_type": "code",
      "metadata": {
        "colab_type": "code",
        "id": "2mt0V2uMaDuB",
        "colab": {}
      },
      "source": [
        "load_pretrained = True"
      ],
      "execution_count": 0,
      "outputs": []
    },
    {
      "cell_type": "code",
      "metadata": {
        "id": "q-ph8fFv-2Kk",
        "colab_type": "code",
        "colab": {}
      },
      "source": [
        "num_gpus = torch.cuda.device_count()\n",
        "if num_gpus > 0:\n",
        "    current_device = 'cuda'\n",
        "else:\n",
        "    current_device = 'cpu'\n",
        "\n",
        "if load_pretrained:\n",
        "  model_dict = torch.load(\"LSTM_model3.pt\")\n",
        "  model_weights = torch.load('LSTM_checkpoint3.pt')\n",
        "  options = model_dict['options']\n",
        "  model_LSTM = LSTMLanguageModel(options).to(current_device)\n",
        "  model_LSTM.load_state_dict(model_weights)\n",
        "\n",
        "else:\n",
        "  embedding_size = 256\n",
        "  hidden_size = 256\n",
        "  num_layers = 3\n",
        "  lstm_dropout = 0.3\n",
        "  options = {\n",
        "          'num_embeddings': len(wikitext_dict),\n",
        "          'embedding_dim': embedding_size,\n",
        "          'padding_idx': wikitext_dict.get_id('<pad>'),\n",
        "          'input_size': embedding_size,\n",
        "          'hidden_size': hidden_size,\n",
        "          'num_layers': num_layers,\n",
        "          'lstm_dropout': lstm_dropout,\n",
        "      }\n",
        "  model_LSTM = LSTMLanguageModel(options).to(current_device)\n",
        "\n"
      ],
      "execution_count": 0,
      "outputs": []
    },
    {
      "cell_type": "code",
      "metadata": {
        "id": "eorpQWkxcNUk",
        "colab_type": "code",
        "colab": {
          "base_uri": "https://localhost:8080/",
          "height": 52
        },
        "outputId": "6f3efa65-ab20-4fd9-c09a-3e9a68986197"
      },
      "source": [
        "!md5sum \"LSTM_model3.pt\"\n",
        "!md5sum \"LSTM_checkpoint3.pt\""
      ],
      "execution_count": 61,
      "outputs": [
        {
          "output_type": "stream",
          "text": [
            "66992fe0a285d584e9e0f3e15370ac2f  LSTM_model3.pt\n",
            "cb722931c9bc81aba31cc4870951edf6  LSTM_checkpoint3.pt\n"
          ],
          "name": "stdout"
        }
      ]
    },
    {
      "cell_type": "code",
      "metadata": {
        "id": "51VV4FBF8_BX",
        "colab_type": "code",
        "colab": {}
      },
      "source": [
        "def init_feature_extractor(model):\n",
        "    feature_extractor = model\n",
        "    \n",
        "    return feature_extractor"
      ],
      "execution_count": 0,
      "outputs": []
    },
    {
      "cell_type": "code",
      "metadata": {
        "id": "Tk93CEPGVotK",
        "colab_type": "code",
        "outputId": "dc2cc07c-5836-457c-9eee-1636bf8d2769",
        "colab": {
          "base_uri": "https://localhost:8080/",
          "height": 104
        }
      },
      "source": [
        "feature_extractor = init_feature_extractor(model_LSTM)\n",
        "feature_extractor.named_children"
      ],
      "execution_count": 37,
      "outputs": [
        {
          "output_type": "execute_result",
          "data": {
            "text/plain": [
              "<bound method Module.named_children of LSTMLanguageModel(\n",
              "  (lookup): Embedding(33186, 256, padding_idx=2)\n",
              "  (lstm): LSTM(256, 256, num_layers=3, batch_first=True, dropout=0.3)\n",
              "  (projection): Linear(in_features=256, out_features=33186, bias=True)\n",
              ")>"
            ]
          },
          "metadata": {
            "tags": []
          },
          "execution_count": 37
        }
      ]
    },
    {
      "cell_type": "markdown",
      "metadata": {
        "id": "G9vR0nBw8_BZ",
        "colab_type": "text"
      },
      "source": [
        "#### Part C\n",
        "Pretrain the feature extractor"
      ]
    },
    {
      "cell_type": "code",
      "metadata": {
        "id": "_cJ2YQJt-_mr",
        "colab_type": "code",
        "colab": {}
      },
      "source": [
        "import torch\n",
        "from torch.utils.data import Dataset, RandomSampler, SequentialSampler, DataLoader\n",
        "\n",
        "class TensoredDataset(Dataset):\n",
        "    def __init__(self, list_of_lists_of_tokens):\n",
        "        self.input_tensors = []\n",
        "        self.target_tensors = []\n",
        "        \n",
        "        for sample in list_of_lists_of_tokens:\n",
        "            self.input_tensors.append(torch.tensor([sample[:-1]], dtype=torch.long))\n",
        "            self.target_tensors.append(torch.tensor([sample[1:]], dtype=torch.long))\n",
        "    \n",
        "    def __len__(self):\n",
        "        return len(self.input_tensors)\n",
        "    \n",
        "    def __getitem__(self, idx):\n",
        "        # return a (input, target) tuple\n",
        "        return (self.input_tensors[idx], self.target_tensors[idx])"
      ],
      "execution_count": 0,
      "outputs": []
    },
    {
      "cell_type": "code",
      "metadata": {
        "id": "XRpORBjb-_-p",
        "colab_type": "code",
        "colab": {}
      },
      "source": [
        "def pad_list_of_tensors(list_of_tensors, pad_token):\n",
        "    max_length = max([t.size(-1) for t in list_of_tensors])\n",
        "    padded_list = []\n",
        "    \n",
        "    for t in list_of_tensors:\n",
        "        padded_tensor = torch.cat([t, torch.tensor([[pad_token]*(max_length - t.size(-1))], dtype=torch.long)], dim = -1)\n",
        "        padded_list.append(padded_tensor)\n",
        "        \n",
        "    padded_tensor = torch.cat(padded_list, dim=0)\n",
        "    \n",
        "    return padded_tensor\n",
        "\n",
        "def pad_collate_fn(batch):\n",
        "    # batch is a list of sample tuples\n",
        "    input_list = [s[0] for s in batch]\n",
        "    target_list = [s[1] for s in batch]\n",
        "    \n",
        "    pad_token = wikitext_dict.get_id('<pad>')\n",
        "    #pad_token = 2\n",
        "    \n",
        "    input_tensor = pad_list_of_tensors(input_list, pad_token)\n",
        "    target_tensor = pad_list_of_tensors(target_list, pad_token)\n",
        "    \n",
        "    return input_tensor, target_tensor"
      ],
      "execution_count": 0,
      "outputs": []
    },
    {
      "cell_type": "code",
      "metadata": {
        "id": "Be8_1gL58_BZ",
        "colab_type": "code",
        "outputId": "d16ed27f-1167-47ef-d316-27019eae0fc4",
        "colab": {
          "base_uri": "https://localhost:8080/",
          "height": 139
        }
      },
      "source": [
        "wikitext_tokenized_datasets = tokenize_dataset_wikitext(datasets, wikitext_dict)\n",
        "wikitext_tensor_dataset = {}\n",
        "\n",
        "for split, listoflists in wikitext_tokenized_datasets.items():\n",
        "    wikitext_tensor_dataset[split] = TensoredDataset(listoflists)\n",
        "    \n",
        "# check the first example\n",
        "wikitext_tensor_dataset['train'][0]"
      ],
      "execution_count": 40,
      "outputs": [
        {
          "output_type": "stream",
          "text": [
            "100%|██████████| 78274/78274 [00:00<00:00, 91285.18it/s]\n",
            "100%|██████████| 8464/8464 [00:00<00:00, 118123.86it/s]\n",
            "100%|██████████| 9708/9708 [00:00<00:00, 123000.79it/s]\n"
          ],
          "name": "stderr"
        },
        {
          "output_type": "execute_result",
          "data": {
            "text/plain": [
              "(tensor([[ 0,  4,  5,  6,  7,  8,  9, 10, 11, 12, 13, 14,  4, 15, 16, 17, 18, 10,\n",
              "          19, 20, 21, 22, 23, 24, 25, 26, 27, 28, 29, 30, 31]]),\n",
              " tensor([[ 4,  5,  6,  7,  8,  9, 10, 11, 12, 13, 14,  4, 15, 16, 17, 18, 10, 19,\n",
              "          20, 21, 22, 23, 24, 25, 26, 27, 28, 29, 30, 31,  1]]))"
            ]
          },
          "metadata": {
            "tags": []
          },
          "execution_count": 40
        }
      ]
    },
    {
      "cell_type": "code",
      "metadata": {
        "id": "oZjUw-GkZwqH",
        "colab_type": "code",
        "colab": {}
      },
      "source": [
        "wikitext_loaders = {}\n",
        "batch_size = 256 #64\n",
        "\n",
        "for split, wikitext_dataset in wikitext_tensor_dataset.items():\n",
        "    wikitext_loaders[split] = DataLoader(wikitext_dataset, batch_size=batch_size, shuffle=True, collate_fn=pad_collate_fn)"
      ],
      "execution_count": 0,
      "outputs": []
    },
    {
      "cell_type": "code",
      "metadata": {
        "id": "XjDWVR17Zxxh",
        "colab_type": "code",
        "colab": {}
      },
      "source": [
        "import numpy as np\n",
        "\n",
        "class EarlyStopping:\n",
        "    \"\"\"Early stops the training if validation loss doesn't improve after a given patience.\"\"\"\n",
        "    def __init__(self, patience=7, verbose=False, delta=0,name = 'LSTM_'):\n",
        "        \"\"\"\n",
        "        Args:\n",
        "            patience (int): How long to wait after last time validation loss improved.\n",
        "                            Default: 7\n",
        "            verbose (bool): If True, prints a message for each validation loss improvement. \n",
        "                            Default: False\n",
        "            delta (float): Minimum change in the monitored quantity to qualify as an improvement.\n",
        "                            Default: 0\n",
        "        \"\"\"\n",
        "        self.patience = patience\n",
        "        self.verbose = verbose\n",
        "        self.counter = 0\n",
        "        self.best_score = None\n",
        "        self.early_stop = False\n",
        "        self.val_loss_min = np.Inf\n",
        "        self.delta = delta\n",
        "        self.name = name\n",
        "\n",
        "    def __call__(self, val_loss, model):\n",
        "\n",
        "        score = -val_loss\n",
        "\n",
        "        if self.best_score is None:\n",
        "            self.best_score = score\n",
        "            self.save_checkpoint(val_loss, model)\n",
        "        elif score < self.best_score - self.delta:\n",
        "            self.counter += 1\n",
        "            print(f'EarlyStopping counter: {self.counter} out of {self.patience}')\n",
        "            if self.counter >= self.patience:\n",
        "                self.early_stop = True\n",
        "        else:\n",
        "            self.best_score = score\n",
        "            self.save_checkpoint(val_loss, model)\n",
        "            self.counter = 0\n",
        "\n",
        "    def save_checkpoint(self, val_loss, model):\n",
        "        '''Saves model when validation loss decrease.'''\n",
        "        if self.verbose:\n",
        "            print(f'Validation loss decreased ({self.val_loss_min:.6f} --> {val_loss:.6f}).  Saving model ...')\n",
        "        torch.save(model.state_dict(), self.name+'checkpoint.pt')\n",
        "        self.val_loss_min = val_loss"
      ],
      "execution_count": 0,
      "outputs": []
    },
    {
      "cell_type": "code",
      "metadata": {
        "id": "dlbwNrgtZzVB",
        "colab_type": "code",
        "outputId": "e16ea7ab-a740-436c-d06c-8d181dbb0758",
        "colab": {
          "base_uri": "https://localhost:8080/",
          "height": 35
        }
      },
      "source": [
        "patience = 5\n",
        "early_stopping = EarlyStopping(patience=patience, verbose=True,name=\"LSTM_\")\n",
        "early_stopping"
      ],
      "execution_count": 43,
      "outputs": [
        {
          "output_type": "execute_result",
          "data": {
            "text/plain": [
              "<__main__.EarlyStopping at 0x7f739d676f98>"
            ]
          },
          "metadata": {
            "tags": []
          },
          "execution_count": 43
        }
      ]
    },
    {
      "cell_type": "code",
      "metadata": {
        "id": "KNiHllqzZ0YT",
        "colab_type": "code",
        "colab": {}
      },
      "source": [
        "plot_cache = []\n",
        "criterion = torch.nn.CrossEntropyLoss(ignore_index=wikitext_dict.get_id('<pad>'))\n",
        "def fit_feature_extractor(feature_extractor, wikitext_train, wikitext_val):\n",
        "        model_parameters = [p for p in feature_extractor.parameters() if p.requires_grad]\n",
        "        optimizer = torch.optim.SGD(model_parameters, lr=0.001, momentum=0.999)\n",
        "\n",
        "        for epoch_number in range(100):\n",
        "            avg_loss=0\n",
        "            if not load_pretrained:\n",
        "                # do train\n",
        "                feature_extractor.train()\n",
        "                train_log_cache = []\n",
        "                for i, (inp, target) in enumerate(wikitext_loaders[\"train\"]):\n",
        "                    optimizer.zero_grad()\n",
        "                    inp = inp.to(current_device)\n",
        "                    target = target.to(current_device)\n",
        "                    logits = feature_extractor(inp)\n",
        "                    \n",
        "                    loss = criterion(logits.view(-1, logits.size(-1)), target.view(-1))\n",
        "                    \n",
        "                    loss.backward()\n",
        "                    optimizer.step()\n",
        "                    \n",
        "                    train_log_cache.append(loss.item())\n",
        "                    \n",
        "                    if i % 100 == 0:\n",
        "                        avg_loss = sum(train_log_cache)/len(train_log_cache)\n",
        "                        print('Step {} avg train loss = {:.{prec}f}'.format(i, avg_loss, prec=4))\n",
        "                        train_log_cache = []\n",
        "                \n",
        "            #do valid\n",
        "            valid_losses = []\n",
        "            feature_extractor.eval()\n",
        "            with torch.no_grad():\n",
        "                for i, (inp, target) in enumerate(wikitext_loaders[\"valid\"]):\n",
        "                    inp = inp.to(current_device)\n",
        "                    target = target.to(current_device)\n",
        "                    logits = feature_extractor(inp)\n",
        "\n",
        "                    loss = criterion(logits.view(-1, logits.size(-1)), target.view(-1))\n",
        "                    valid_losses.append(loss.item())\n",
        "                avg_val_loss = sum(valid_losses) / len(valid_losses)\n",
        "                print('Validation loss after {} epoch = {:.{prec}f}'.format(epoch_number, avg_val_loss, prec=4))\n",
        "            \n",
        "            plot_cache.append((avg_loss, avg_val_loss))\n",
        "        \n",
        "            if not load_pretrained:\n",
        "                early_stopping(avg_val_loss,feature_extractor)\n",
        "                torch.save({\n",
        "                    'loss_cache': plot_cache,\n",
        "                }, './lstm.pt')\n",
        "\n",
        "                if early_stopping.early_stop:\n",
        "                    print(\"Early stopping\")\n",
        "                    break\n",
        "                    \n",
        "            if load_pretrained:\n",
        "                print(\"Validation PPL:\",2**(avg_val_loss/np.log(2)))\n",
        "                break"
      ],
      "execution_count": 0,
      "outputs": []
    },
    {
      "cell_type": "markdown",
      "metadata": {
        "id": "6qaoyxB48_Bb",
        "colab_type": "text"
      },
      "source": [
        "#### Part D\n",
        "Calculate the test perplexity on wikitext2. Feel free to recycle code from previous assignments from this class. "
      ]
    },
    {
      "cell_type": "code",
      "metadata": {
        "id": "4FDH8uDi8_Bb",
        "colab_type": "code",
        "colab": {}
      },
      "source": [
        "def calculate_wiki2_test_perplexity(feature_extractor, wikitext_test):\n",
        "    \n",
        "    # FILL IN DETAILS\n",
        "    plot_cache = []\n",
        "    \n",
        "    #do valid\n",
        "    test_losses = []\n",
        "    feature_extractor.eval()\n",
        "    with torch.no_grad():\n",
        "        for i, (inp, target) in enumerate(wikitext_loaders['test']):\n",
        "            inp = inp.to(current_device)\n",
        "            target = target.to(current_device)\n",
        "            logits = feature_extractor(inp)\n",
        "\n",
        "            loss = criterion(logits.view(-1, logits.size(-1)), target.view(-1))\n",
        "            test_losses.append(loss.item())\n",
        "        avg_test_loss = sum(test_losses) / len(test_losses)\n",
        "        print('Test loss = {:.{prec}f}'.format(avg_test_loss, prec=4))\n",
        "\n",
        "    plot_cache.append(avg_test_loss)\n",
        "    test_ppl = 2**(avg_test_loss/np.log(2))   \n",
        "    print('Test PPL:', test_ppl)\n",
        "    return test_ppl"
      ],
      "execution_count": 0,
      "outputs": []
    },
    {
      "cell_type": "markdown",
      "metadata": {
        "id": "Q2f3VIqn8_Bd",
        "colab_type": "text"
      },
      "source": [
        "#### Let's grade your results!\n",
        "(don't touch this part)"
      ]
    },
    {
      "cell_type": "code",
      "metadata": {
        "id": "MzR3oHS98_Be",
        "colab_type": "code",
        "outputId": "9ce5c2b6-6ae4-49ac-f297-081fe49b8304",
        "colab": {
          "base_uri": "https://localhost:8080/",
          "height": 87
        }
      },
      "source": [
        "def grade_wikitext2():\n",
        "    # load data\n",
        "    wikitext_train, wikitext_val, wikitext_test = init_wikitext_dataset(datasets)\n",
        "\n",
        "    # load feature extractor\n",
        "    feature_extractor = init_feature_extractor(model_LSTM)\n",
        "\n",
        "    # pretrain using the feature extractor\n",
        "    fit_feature_extractor(feature_extractor, wikitext_train, wikitext_val)\n",
        "\n",
        "    # check test accuracy\n",
        "    test_ppl = calculate_wiki2_test_perplexity(feature_extractor, wikitext_test)\n",
        "\n",
        "    # the real threshold will be released by Oct 11 \n",
        "    assert test_ppl < 10000, 'ummm... your perplexity is too high...'\n",
        "    \n",
        "grade_wikitext2()"
      ],
      "execution_count": 46,
      "outputs": [
        {
          "output_type": "stream",
          "text": [
            "Validation loss after 0 epoch = 5.0225\n",
            "Validation PPL: 151.78610281596377\n",
            "Test loss = 4.9736\n",
            "Test PPL: 144.55170551222892\n"
          ],
          "name": "stdout"
        }
      ]
    },
    {
      "cell_type": "markdown",
      "metadata": {
        "id": "1jdA80cx8_Bf",
        "colab_type": "text"
      },
      "source": [
        "---   \n",
        "## Question 3 (fine-tune on MNLI)\n",
        "In this question you will use your feature_extractor from question 2\n",
        "to fine-tune on MNLI.\n",
        "\n",
        "(From the website):\n",
        "The Multi-Genre Natural Language Inference (MultiNLI) corpus is a crowd-sourced collection of 433k sentence pairs annotated with textual entailment information. The corpus is modeled on the SNLI corpus, but differs in that covers a range of genres of spoken and written text, and supports a distinctive cross-genre generalization evaluation. The corpus served as the basis for the shared task of the RepEval 2017 Workshop at EMNLP in Copenhagen.\n",
        "\n",
        "MNLI has 3 genres (3 classes).\n",
        "The goal of this question is to maximize the test accuracy in MNLI. "
      ]
    },
    {
      "cell_type": "markdown",
      "metadata": {
        "id": "dKBxcRCL8_Bg",
        "colab_type": "text"
      },
      "source": [
        "### Part A\n",
        "In this section you need to generate the training, validation and test split. Feel free to use code from your previous lectures."
      ]
    },
    {
      "cell_type": "code",
      "metadata": {
        "id": "qFOkzkhZ8_Bh",
        "colab_type": "code",
        "colab": {}
      },
      "source": [
        "from torchtext.datasets import MultiNLI\n",
        "\n",
        "def init_mnli_dataset():\n",
        "    \"\"\"\n",
        "    Fill in the details\n",
        "    \"\"\"\n",
        "    mnli_val = None # TODO\n",
        "    mnli_train = None # TODO\n",
        "    mnli_test = None # TODO\n",
        "    \n",
        "    return mnli_train, mnli_val, mnli_test"
      ],
      "execution_count": 0,
      "outputs": []
    },
    {
      "cell_type": "markdown",
      "metadata": {
        "id": "uRV9rbz58_Bk",
        "colab_type": "text"
      },
      "source": [
        "### Part B\n",
        "Here we again design a model for finetuning. Use the output of your feature-extractor as the input to this model. This should be a powerful classifier (up to you)."
      ]
    },
    {
      "cell_type": "code",
      "metadata": {
        "id": "So3tA3PM8_Bl",
        "colab_type": "code",
        "colab": {}
      },
      "source": [
        "def init_finetune_model():\n",
        "    \n",
        "    # TODO FILL IN THE DETAILS\n",
        "    fine_tune_model = ...\n",
        "    \n",
        "    return fine_tune_model"
      ],
      "execution_count": 0,
      "outputs": []
    },
    {
      "cell_type": "markdown",
      "metadata": {
        "id": "HTNqpuKR8_Bn",
        "colab_type": "text"
      },
      "source": [
        "### Part C\n",
        "Use the feature_extractor and your fine_tune_model to fine_tune MNLI"
      ]
    },
    {
      "cell_type": "code",
      "metadata": {
        "id": "llV4oScv8_Bn",
        "colab_type": "code",
        "colab": {}
      },
      "source": [
        "def fine_tune_mnli(feature_extractor, fine_tune_model, mnli_train, mnli_val):\n",
        "    # YOUR CODE HERE\n",
        "    pass"
      ],
      "execution_count": 0,
      "outputs": []
    },
    {
      "cell_type": "markdown",
      "metadata": {
        "id": "QbY3HYic8_Bo",
        "colab_type": "text"
      },
      "source": [
        "### Part D\n",
        "Evaluate the test accuracy"
      ]
    },
    {
      "cell_type": "code",
      "metadata": {
        "id": "OOYxiQoN8_Bp",
        "colab_type": "code",
        "colab": {}
      },
      "source": [
        "def calculate_mnli_test_accuracy(feature_extractor, fine_tune_model, mnli_test):\n",
        "    \n",
        "    # YOUR CODE HERE...\n",
        "    \n",
        "    return test_ppl"
      ],
      "execution_count": 0,
      "outputs": []
    },
    {
      "cell_type": "markdown",
      "metadata": {
        "id": "MFc3Wa-z8_Bq",
        "colab_type": "text"
      },
      "source": [
        "### Let's grade your results"
      ]
    },
    {
      "cell_type": "code",
      "metadata": {
        "id": "2oo4MZeX8_Br",
        "colab_type": "code",
        "colab": {}
      },
      "source": [
        "def grade_mnli():\n",
        "    # load data\n",
        "    mnli_train, mnli_val, mnli_test = init_mnli_dataset()\n",
        "\n",
        "    # no need to load feature extractor because it is fine-tuned\n",
        "    feature_extractor = feature_extractor\n",
        "\n",
        "    # init the fine_tune model\n",
        "    fine_tune_model = init_finetune_model()\n",
        "    \n",
        "    # finetune\n",
        "    fine_tune_mnli(feature_extractor, fine_tune_model, mnli_train, mnli_val)\n",
        "\n",
        "    # check test accuracy\n",
        "    test_accuracy = calculate_mnli_test_accuracy(feature_extractor, wikitext_test)\n",
        "\n",
        "    # the real threshold will be released by Oct 11 \n",
        "    assert test_ppl > 0.00, 'ummm... your accuracy is too low...'\n",
        "    \n",
        "grade_mnli()"
      ],
      "execution_count": 0,
      "outputs": []
    },
    {
      "cell_type": "markdown",
      "metadata": {
        "id": "F4xCIvBP8_Bs",
        "colab_type": "text"
      },
      "source": [
        "---  \n",
        "### Question 4 (BERT)\n",
        "\n",
        "A major direction in research came from a model called BERT, released last year.  \n",
        "\n",
        "In this question you'll use BERT as your feature_extractor instead of the model you\n",
        "designed yourself.\n",
        "\n",
        "To get BERT, head on over to (https://github.com/huggingface/transformers) and load your BERT model here"
      ]
    },
    {
      "cell_type": "code",
      "metadata": {
        "id": "mLRV5Ero8_Bs",
        "colab_type": "code",
        "outputId": "38d52b30-bd22-4961-db23-7b1f40907a23",
        "colab": {
          "base_uri": "https://localhost:8080/",
          "height": 52
        }
      },
      "source": [
        "!pip install jsonlines\n",
        "import torch\n",
        "from torch.utils.data import Dataset\n",
        "from tqdm import tqdm\n",
        "import pickle\n",
        "import torchvision.models as models\n",
        "import os\n",
        "from torchvision import transforms\n",
        "from torchvision.datasets import  MNIST\n",
        "from torch.utils.data import DataLoader, random_split\n",
        "import torch.nn.functional as F\n",
        "import os\n",
        "import json\n",
        "import jsonlines\n",
        "import numpy as np\n",
        "from collections import defaultdict\n",
        "from torch import nn\n",
        "import numpy"
      ],
      "execution_count": 47,
      "outputs": [
        {
          "output_type": "stream",
          "text": [
            "Requirement already satisfied: jsonlines in /usr/local/lib/python3.6/dist-packages (1.2.0)\n",
            "Requirement already satisfied: six in /usr/local/lib/python3.6/dist-packages (from jsonlines) (1.12.0)\n"
          ],
          "name": "stdout"
        }
      ]
    },
    {
      "cell_type": "code",
      "metadata": {
        "id": "SNMyLyIEuAmI",
        "colab_type": "code",
        "outputId": "7fd1af63-1455-40b7-badb-89fb33df485d",
        "colab": {
          "base_uri": "https://localhost:8080/",
          "height": 740
        }
      },
      "source": [
        "!pip install transformers\n",
        "from transformers.data.processors.glue import MnliProcessor\n",
        "import pandas as pd\n",
        "import os\n",
        "import sys\n",
        "import shutil\n",
        "import argparse\n",
        "import tempfile\n",
        "import urllib.request\n",
        "import zipfile\n",
        "from transformers import glue_convert_examples_to_features as convert_examples_to_features\n",
        "from transformers import BertTokenizer\n",
        "from torch.utils.data import TensorDataset, RandomSampler, DataLoader\n",
        "import torch.optim as optim\n",
        "from tqdm import trange\n",
        "from tqdm import tqdm_notebook as tqdm\n",
        "\n",
        "from transformers import (\n",
        "    BertModel,\n",
        "    BertTokenizer\n",
        ")\n",
        "\n",
        "tokenizer = BertTokenizer.from_pretrained('bert-base-uncased')"
      ],
      "execution_count": 48,
      "outputs": [
        {
          "output_type": "stream",
          "text": [
            "Collecting transformers\n",
            "\u001b[?25l  Downloading https://files.pythonhosted.org/packages/fd/f9/51824e40f0a23a49eab4fcaa45c1c797cbf9761adedd0b558dab7c958b34/transformers-2.1.1-py3-none-any.whl (311kB)\n",
            "\r\u001b[K     |█                               | 10kB 18.0MB/s eta 0:00:01\r\u001b[K     |██                              | 20kB 2.2MB/s eta 0:00:01\r\u001b[K     |███▏                            | 30kB 3.2MB/s eta 0:00:01\r\u001b[K     |████▏                           | 40kB 2.1MB/s eta 0:00:01\r\u001b[K     |█████▎                          | 51kB 2.6MB/s eta 0:00:01\r\u001b[K     |██████▎                         | 61kB 3.1MB/s eta 0:00:01\r\u001b[K     |███████▍                        | 71kB 3.6MB/s eta 0:00:01\r\u001b[K     |████████▍                       | 81kB 4.1MB/s eta 0:00:01\r\u001b[K     |█████████▌                      | 92kB 4.5MB/s eta 0:00:01\r\u001b[K     |██████████▌                     | 102kB 3.5MB/s eta 0:00:01\r\u001b[K     |███████████▋                    | 112kB 3.5MB/s eta 0:00:01\r\u001b[K     |████████████▋                   | 122kB 3.5MB/s eta 0:00:01\r\u001b[K     |█████████████▊                  | 133kB 3.5MB/s eta 0:00:01\r\u001b[K     |██████████████▊                 | 143kB 3.5MB/s eta 0:00:01\r\u001b[K     |███████████████▊                | 153kB 3.5MB/s eta 0:00:01\r\u001b[K     |████████████████▉               | 163kB 3.5MB/s eta 0:00:01\r\u001b[K     |█████████████████▉              | 174kB 3.5MB/s eta 0:00:01\r\u001b[K     |███████████████████             | 184kB 3.5MB/s eta 0:00:01\r\u001b[K     |████████████████████            | 194kB 3.5MB/s eta 0:00:01\r\u001b[K     |█████████████████████           | 204kB 3.5MB/s eta 0:00:01\r\u001b[K     |██████████████████████          | 215kB 3.5MB/s eta 0:00:01\r\u001b[K     |███████████████████████▏        | 225kB 3.5MB/s eta 0:00:01\r\u001b[K     |████████████████████████▏       | 235kB 3.5MB/s eta 0:00:01\r\u001b[K     |█████████████████████████▎      | 245kB 3.5MB/s eta 0:00:01\r\u001b[K     |██████████████████████████▎     | 256kB 3.5MB/s eta 0:00:01\r\u001b[K     |███████████████████████████▍    | 266kB 3.5MB/s eta 0:00:01\r\u001b[K     |████████████████████████████▍   | 276kB 3.5MB/s eta 0:00:01\r\u001b[K     |█████████████████████████████▍  | 286kB 3.5MB/s eta 0:00:01\r\u001b[K     |██████████████████████████████▌ | 296kB 3.5MB/s eta 0:00:01\r\u001b[K     |███████████████████████████████▌| 307kB 3.5MB/s eta 0:00:01\r\u001b[K     |████████████████████████████████| 317kB 3.5MB/s \n",
            "\u001b[?25hRequirement already satisfied: boto3 in /usr/local/lib/python3.6/dist-packages (from transformers) (1.10.2)\n",
            "Requirement already satisfied: tqdm in /usr/local/lib/python3.6/dist-packages (from transformers) (4.28.1)\n",
            "Collecting sentencepiece\n",
            "\u001b[?25l  Downloading https://files.pythonhosted.org/packages/14/3d/efb655a670b98f62ec32d66954e1109f403db4d937c50d779a75b9763a29/sentencepiece-0.1.83-cp36-cp36m-manylinux1_x86_64.whl (1.0MB)\n",
            "\u001b[K     |████████████████████████████████| 1.0MB 44.8MB/s \n",
            "\u001b[?25hCollecting sacremoses\n",
            "\u001b[?25l  Downloading https://files.pythonhosted.org/packages/1f/8e/ed5364a06a9ba720fddd9820155cc57300d28f5f43a6fd7b7e817177e642/sacremoses-0.0.35.tar.gz (859kB)\n",
            "\u001b[K     |████████████████████████████████| 860kB 36.2MB/s \n",
            "\u001b[?25hCollecting regex\n",
            "\u001b[?25l  Downloading https://files.pythonhosted.org/packages/6f/a6/99eeb5904ab763db87af4bd71d9b1dfdd9792681240657a4c0a599c10a81/regex-2019.08.19.tar.gz (654kB)\n",
            "\u001b[K     |████████████████████████████████| 655kB 35.9MB/s \n",
            "\u001b[?25hRequirement already satisfied: numpy in /usr/local/lib/python3.6/dist-packages (from transformers) (1.17.3)\n",
            "Requirement already satisfied: requests in /usr/local/lib/python3.6/dist-packages (from transformers) (2.21.0)\n",
            "Requirement already satisfied: botocore<1.14.0,>=1.13.2 in /usr/local/lib/python3.6/dist-packages (from boto3->transformers) (1.13.2)\n",
            "Requirement already satisfied: jmespath<1.0.0,>=0.7.1 in /usr/local/lib/python3.6/dist-packages (from boto3->transformers) (0.9.4)\n",
            "Requirement already satisfied: s3transfer<0.3.0,>=0.2.0 in /usr/local/lib/python3.6/dist-packages (from boto3->transformers) (0.2.1)\n",
            "Requirement already satisfied: six in /usr/local/lib/python3.6/dist-packages (from sacremoses->transformers) (1.12.0)\n",
            "Requirement already satisfied: click in /usr/local/lib/python3.6/dist-packages (from sacremoses->transformers) (7.0)\n",
            "Requirement already satisfied: joblib in /usr/local/lib/python3.6/dist-packages (from sacremoses->transformers) (0.14.0)\n",
            "Requirement already satisfied: certifi>=2017.4.17 in /usr/local/lib/python3.6/dist-packages (from requests->transformers) (2019.9.11)\n",
            "Requirement already satisfied: chardet<3.1.0,>=3.0.2 in /usr/local/lib/python3.6/dist-packages (from requests->transformers) (3.0.4)\n",
            "Requirement already satisfied: idna<2.9,>=2.5 in /usr/local/lib/python3.6/dist-packages (from requests->transformers) (2.8)\n",
            "Requirement already satisfied: urllib3<1.25,>=1.21.1 in /usr/local/lib/python3.6/dist-packages (from requests->transformers) (1.24.3)\n",
            "Requirement already satisfied: python-dateutil<3.0.0,>=2.1; python_version >= \"2.7\" in /usr/local/lib/python3.6/dist-packages (from botocore<1.14.0,>=1.13.2->boto3->transformers) (2.6.1)\n",
            "Requirement already satisfied: docutils<0.16,>=0.10 in /usr/local/lib/python3.6/dist-packages (from botocore<1.14.0,>=1.13.2->boto3->transformers) (0.15.2)\n",
            "Building wheels for collected packages: sacremoses, regex\n",
            "  Building wheel for sacremoses (setup.py) ... \u001b[?25l\u001b[?25hdone\n",
            "  Created wheel for sacremoses: filename=sacremoses-0.0.35-cp36-none-any.whl size=883999 sha256=47e80b89edaa7f038faadabacff1a4ac12e0021f229189d6d86800a3b8ca97f1\n",
            "  Stored in directory: /root/.cache/pip/wheels/63/2a/db/63e2909042c634ef551d0d9ac825b2b0b32dede4a6d87ddc94\n",
            "  Building wheel for regex (setup.py) ... \u001b[?25l\u001b[?25hdone\n",
            "  Created wheel for regex: filename=regex-2019.8.19-cp36-cp36m-linux_x86_64.whl size=609229 sha256=cafd6f64aa758c12cc76d43a7b5c6cfe083783dece47f303d07d30a199057368\n",
            "  Stored in directory: /root/.cache/pip/wheels/90/04/07/b5010fb816721eb3d6dd64ed5cc8111ca23f97fdab8619b5be\n",
            "Successfully built sacremoses regex\n",
            "Installing collected packages: sentencepiece, sacremoses, regex, transformers\n",
            "Successfully installed regex-2019.8.19 sacremoses-0.0.35 sentencepiece-0.1.83 transformers-2.1.1\n"
          ],
          "name": "stdout"
        },
        {
          "output_type": "display_data",
          "data": {
            "text/html": [
              "<p style=\"color: red;\">\n",
              "The default version of TensorFlow in Colab will soon switch to TensorFlow 2.x.<br>\n",
              "We recommend you <a href=\"https://www.tensorflow.org/guide/migrate\" target=\"_blank\">upgrade</a> now \n",
              "or ensure your notebook will continue to use TensorFlow 1.x via the <code>%tensorflow_version 1.x</code> magic:\n",
              "<a href=\"https://colab.research.google.com/notebooks/tensorflow_version.ipynb\" target=\"_blank\">more info</a>.</p>\n"
            ],
            "text/plain": [
              "<IPython.core.display.HTML object>"
            ]
          },
          "metadata": {
            "tags": []
          }
        },
        {
          "output_type": "stream",
          "text": [
            "100%|██████████| 231508/231508 [00:00<00:00, 2632875.27B/s]\n"
          ],
          "name": "stderr"
        }
      ]
    },
    {
      "cell_type": "code",
      "metadata": {
        "id": "YuFmSV7UuCnv",
        "colab_type": "code",
        "outputId": "d2c99f08-bb3d-455e-bd46-cc893ac92f11",
        "colab": {
          "base_uri": "https://localhost:8080/",
          "height": 52
        }
      },
      "source": [
        "TASK2PATH = {\n",
        "    \"MNLI\": \"https://firebasestorage.googleapis.com/v0/b/mtl-sentence-representations.appspot.com/o/data%2FMNLI.zip?alt=media&token=50329ea1-e339-40e2-809c-10c40afff3ce\"\n",
        "}\n",
        "def download_and_extract(task, data_dir):\n",
        "    print(\"Downloading and extracting %s...\" % task)\n",
        "    data_file = \"%s.zip\" % task\n",
        "    urllib.request.urlretrieve(TASK2PATH[task], data_file)\n",
        "    with zipfile.ZipFile(data_file) as zip_ref:\n",
        "        zip_ref.extractall(data_dir)\n",
        "    os.remove(data_file)\n",
        "    print(\"\\tCompleted!\")\n",
        "download_and_extract('MNLI', '.')"
      ],
      "execution_count": 49,
      "outputs": [
        {
          "output_type": "stream",
          "text": [
            "Downloading and extracting MNLI...\n",
            "\tCompleted!\n"
          ],
          "name": "stdout"
        }
      ]
    },
    {
      "cell_type": "markdown",
      "metadata": {
        "id": "OsIUnOAd8_Bu",
        "colab_type": "text"
      },
      "source": [
        "### Part A (init BERT)\n",
        "In this section you need to create an instance of BERT and return if from the function"
      ]
    },
    {
      "cell_type": "code",
      "metadata": {
        "id": "wfu66bfC8_Bu",
        "colab_type": "code",
        "colab": {}
      },
      "source": [
        "def init_mnli_dataset():\n",
        "  # ----------------------\n",
        "  # TRAIN/VAL DATALOADERS\n",
        "  # ----------------------\n",
        "  train = processor.get_train_examples('MNLI')\n",
        "  features = convert_examples_to_features(train,\n",
        "                                          tokenizer,\n",
        "                                          label_list=['contradiction','neutral','entailment'],\n",
        "                                          max_length=64,\n",
        "                                          output_mode='classification',\n",
        "                                          pad_on_left=False,\n",
        "                                          pad_token=tokenizer.pad_token_id,\n",
        "                                          pad_token_segment_id=0)\n",
        "  train_dataset = TensorDataset(torch.tensor([f.input_ids for f in features], dtype=torch.long), \n",
        "                                torch.tensor([f.attention_mask for f in features], dtype=torch.long), \n",
        "                                torch.tensor([f.token_type_ids for f in features], dtype=torch.long), \n",
        "                                torch.tensor([f.label for f in features], dtype=torch.long))\n",
        "\n",
        "  nb_train_samples = int(0.75 * len(train_dataset))\n",
        "  nb_val_samples = len(train_dataset) - nb_train_samples\n",
        "\n",
        "  bert_mnli_train_dataset, bert_mnli_val_dataset = random_split(train_dataset, [nb_train_samples, nb_val_samples])\n",
        "\n",
        "  # train loader\n",
        "  train_sampler = RandomSampler(bert_mnli_train_dataset)\n",
        "  bert_mnli_train_dataloader = DataLoader(train_dataset, sampler=train_sampler, batch_size=32)\n",
        "\n",
        "  # val loader\n",
        "  val_sampler = RandomSampler(bert_mnli_val_dataset)\n",
        "  bert_mnli_val_dataloader = DataLoader(bert_mnli_val_dataset, sampler=val_sampler, batch_size=32)\n",
        "\n",
        "\n",
        "  # ----------------------\n",
        "  # TEST DATALOADERS\n",
        "  # ----------------------\n",
        "  dev = processor.get_dev_examples('MNLI')\n",
        "  features = convert_examples_to_features(dev,\n",
        "                                          tokenizer,\n",
        "                                          label_list=['contradiction','neutral','entailment'],\n",
        "                                          max_length=64,\n",
        "                                          output_mode='classification',\n",
        "                                          pad_on_left=False,\n",
        "                                          pad_token=tokenizer.pad_token_id,\n",
        "                                          pad_token_segment_id=0)\n",
        "\n",
        "  bert_mnli_test_dataset = TensorDataset(torch.tensor([f.input_ids for f in features], dtype=torch.long), \n",
        "                                torch.tensor([f.attention_mask for f in features], dtype=torch.long), \n",
        "                                torch.tensor([f.token_type_ids for f in features], dtype=torch.long), \n",
        "                                torch.tensor([f.label for f in features], dtype=torch.long))\n",
        "\n",
        "  # test dataset\n",
        "  test_sampler = RandomSampler(bert_mnli_test_dataset)\n",
        "  bert_mnli_test_dataloader = DataLoader(bert_mnli_test_dataset, sampler=test_sampler, batch_size=32)\n",
        "  \n",
        "  return bert_mnli_train_dataloader, bert_mnli_val_dataloader, bert_mnli_test_dataloader"
      ],
      "execution_count": 0,
      "outputs": []
    },
    {
      "cell_type": "code",
      "metadata": {
        "id": "ZOG2u-_8uI6P",
        "colab_type": "code",
        "colab": {}
      },
      "source": [
        "processor = MnliProcessor()"
      ],
      "execution_count": 0,
      "outputs": []
    },
    {
      "cell_type": "code",
      "metadata": {
        "id": "WmTNNvqsuJQZ",
        "colab_type": "code",
        "colab": {}
      },
      "source": [
        "from transformers import BertTokenizer, BertModel, BertForMaskedLM\n",
        "\n",
        "def init_bert():\n",
        "    pretrained_weights = \"bert-base-uncased\"\n",
        "    bert = BertModel.from_pretrained(pretrained_weights, output_attentions=True)\n",
        "    return bert"
      ],
      "execution_count": 0,
      "outputs": []
    },
    {
      "cell_type": "markdown",
      "metadata": {
        "id": "cbcGuqPt8_Bv",
        "colab_type": "text"
      },
      "source": [
        "## Part B (fine-tune with BERT)\n",
        "\n",
        "Use BERT as your feature extractor to finetune MNLI. Use a new finetune model (reset weights)."
      ]
    },
    {
      "cell_type": "code",
      "metadata": {
        "id": "RMWiS9HLuO_b",
        "colab_type": "code",
        "colab": {}
      },
      "source": [
        "class BERTSequenceClassifier(nn.Module):\n",
        "    def __init__(self, bert, num_classes,hidden_size):\n",
        "        super().__init__()\n",
        "        self.bert = bert\n",
        "        self.W = nn.Linear(bert.config.hidden_size, hidden_size)\n",
        "        self.num_classes = num_classes\n",
        "        self.relu = nn.ReLU()\n",
        "        self.linear = nn.Linear(hidden_size, num_classes)\n",
        "        \n",
        "    def forward(self, input_ids, attention_mask, token_type_ids):\n",
        "        h, _, attn = self.bert(input_ids=input_ids, \n",
        "                               attention_mask=attention_mask, \n",
        "                               token_type_ids=token_type_ids)\n",
        "        h_cls = h[:, 0]\n",
        "        logits = self.W(h_cls)\n",
        "        relu = self.relu(logits)\n",
        "        output = self.linear(relu)\n",
        "        return output, attn"
      ],
      "execution_count": 0,
      "outputs": []
    },
    {
      "cell_type": "code",
      "metadata": {
        "id": "cmmHZ-f0uRiN",
        "colab_type": "code",
        "colab": {}
      },
      "source": [
        "def init_finetune_model(bert, num, hidden):\n",
        "  model = BERTSequenceClassifier(bert, num, hidden)\n",
        "  return model"
      ],
      "execution_count": 0,
      "outputs": []
    },
    {
      "cell_type": "code",
      "metadata": {
        "id": "CTkswRXWuSvs",
        "colab_type": "code",
        "colab": {}
      },
      "source": [
        "plot_cache = []\n",
        "num_gpus = torch.cuda.device_count()\n",
        "if num_gpus > 0:\n",
        "    current_device = 'cuda'\n",
        "else:\n",
        "    current_device = 'cpu'"
      ],
      "execution_count": 0,
      "outputs": []
    },
    {
      "cell_type": "code",
      "metadata": {
        "id": "WWDEnKaa8_Bw",
        "colab_type": "code",
        "colab": {}
      },
      "source": [
        "def fine_tune_mnli(model, train_loader, val_loader):\n",
        "    criterion = nn.CrossEntropyLoss(ignore_index=-1).to(current_device)\n",
        "    optimizer = optim.Adam([p for p in model.parameters() if p.requires_grad], lr=2e-5, eps=1e-08)\n",
        "    plot_cache = []\n",
        "    for epoch_number in range(1):\n",
        "        avg_loss=0\n",
        "        model.train()\n",
        "        train_log_cache = []\n",
        "        epoch_iter = tqdm(train_loader, desc='training')\n",
        "        for i, (inp, attention_masks , token_type_ids ,target) in enumerate(epoch_iter):\n",
        "            optimizer.zero_grad()\n",
        "            inp = inp.to(current_device)\n",
        "            target = target.to(current_device)\n",
        "            token_type_ids = token_type_ids.to(current_device)\n",
        "            attention_masks = attention_masks.to(current_device)\n",
        "            logits, _ = model(inp,attention_masks,token_type_ids)\n",
        "\n",
        "            loss = criterion(logits.view(-1, logits.size(-1)), target.view(-1))\n",
        "\n",
        "            loss.backward()\n",
        "            nn.utils.clip_grad_norm_(model.parameters(), 1.0)\n",
        "            optimizer.step()\n",
        "\n",
        "            train_log_cache.append(loss.item())\n",
        "\n",
        "            if i % 1000 == 0:\n",
        "                avg_loss = sum(train_log_cache)/len(train_log_cache)\n",
        "                print('Step {} avg train loss = {:.{prec}f}'.format(i, avg_loss, prec=4))\n",
        "                train_log_cache = []\n",
        "\n",
        "        #do valid\n",
        "        valid_losses = []\n",
        "        #model.eval()\n",
        "        with torch.no_grad():\n",
        "            model.eval()\n",
        "            total = 0\n",
        "            correct = 0\n",
        "            val_epoch_iter = tqdm(val_loader, desc='validating')\n",
        "            for i,(inp, attention_masks , token_type_ids ,target) in enumerate(val_epoch_iter):\n",
        "              inp = inp.to(current_device)\n",
        "              target = target.to(current_device)\n",
        "              token_type_ids = token_type_ids.to(current_device)\n",
        "              attention_masks = attention_masks.to(current_device)\n",
        "              logits, _ = model(inp,attention_masks,token_type_ids)\n",
        "\n",
        "              outputs = F.softmax(logits, dim=1)\n",
        "              predicted = outputs.max(1, keepdim=True)[1]\n",
        "              temp = predicted\n",
        "              total += target.size(0)\n",
        "              correct += predicted.eq(target.view_as(predicted).to(current_device)).sum().item()\n",
        "            print(\"Validation acc: \",100 * correct / total) \n",
        "    print('saving') \n",
        "    torch.save(model,\"Bert_model.pt\")\n",
        "    torch.save(model.state_dict(),\"Bert_model_state_dict.pt\")"
      ],
      "execution_count": 0,
      "outputs": []
    },
    {
      "cell_type": "markdown",
      "metadata": {
        "id": "l-aifN6M8_By",
        "colab_type": "text"
      },
      "source": [
        "## Part C\n",
        "Evaluate how well we did"
      ]
    },
    {
      "cell_type": "code",
      "metadata": {
        "id": "XrVvdSsq8_Bz",
        "colab_type": "code",
        "colab": {}
      },
      "source": [
        "import torch.nn.functional as F\n",
        "def calculate_mnli_test_accuracy(model, test_loader):\n",
        "    correct = 0\n",
        "    total = 0\n",
        "\n",
        "    for batch in tqdm(test_loader, desc=\"Testing\"):\n",
        "        model.eval()\n",
        "        batch = tuple(t.to(current_device) for t in batch)\n",
        "        labels = batch[-1]\n",
        "        \n",
        "        with torch.no_grad():\n",
        "            logits = model(*batch[:-1])\n",
        "            outputs = F.softmax(logits[0], dim=1)\n",
        "            predicted = outputs.max(1, keepdim=True)[1]\n",
        "            total += labels.size(0)\n",
        "            correct += predicted.eq(labels.view_as(predicted)).sum().item()     \n",
        "    \n",
        "    accuracy = (100 * correct / total)\n",
        "    print()\n",
        "    print(\"Test acc: \" + str(accuracy))\n",
        "    return accuracy"
      ],
      "execution_count": 0,
      "outputs": []
    },
    {
      "cell_type": "markdown",
      "metadata": {
        "id": "w1bfLSUA8_B1",
        "colab_type": "text"
      },
      "source": [
        "## Let's grade your BERT results!"
      ]
    },
    {
      "cell_type": "code",
      "metadata": {
        "id": "qVu1BSwDuV7R",
        "colab_type": "code",
        "colab": {}
      },
      "source": [
        "LOAD_PRETRAINED = True"
      ],
      "execution_count": 0,
      "outputs": []
    },
    {
      "cell_type": "code",
      "metadata": {
        "id": "Ad2BBkI48_B1",
        "colab_type": "code",
        "colab": {
          "base_uri": "https://localhost:8080/",
          "height": 104
        },
        "outputId": "0bf724e7-e983-46fc-e63c-76cc9c21fc66"
      },
      "source": [
        "def grade_mnli_BERT():\n",
        "    BERT_feature_extractor = init_bert()\n",
        "    # load data\n",
        "    mnli_train, mnli_val, mnli_test = init_mnli_dataset()\n",
        "\n",
        "    if not LOAD_PRETRAINED:\n",
        "        # init the fine_tune model\n",
        "        fine_tune_model = init_finetune_model(BERT_feature_extractor, 3, 256).to(current_device)\n",
        "        \n",
        "        # finetune\n",
        "        fine_tune_mnli(fine_tune_model, mnli_train, mnli_val)\n",
        "    else:\n",
        "        fine_tune_model = torch.load(\"Bert_model.pt\")\n",
        "\n",
        "    # check test accuracy\n",
        "    test_accuracy = calculate_mnli_test_accuracy(fine_tune_model, mnli_test)\n",
        "    \n",
        "    # the real threshold will be released by Oct 11 \n",
        "    assert test_accuracy > 0.0, 'ummm... your accuracy is too low...'\n",
        "    return test_accuracy\n",
        "    \n",
        "acc = grade_mnli_BERT()"
      ],
      "execution_count": 59,
      "outputs": [
        {
          "output_type": "stream",
          "text": [
            "100%|██████████| 313/313 [00:00<00:00, 99463.38B/s]\n",
            "100%|██████████| 440473133/440473133 [00:09<00:00, 47644889.20B/s]\n"
          ],
          "name": "stderr"
        },
        {
          "output_type": "display_data",
          "data": {
            "application/vnd.jupyter.widget-view+json": {
              "model_id": "670b3b52b2084dad84d8e1ed9d4caeed",
              "version_minor": 0,
              "version_major": 2
            },
            "text/plain": [
              "HBox(children=(IntProgress(value=0, description='Testing', max=307, style=ProgressStyle(description_width='ini…"
            ]
          },
          "metadata": {
            "tags": []
          }
        },
        {
          "output_type": "stream",
          "text": [
            "\n",
            "\n",
            "Test acc: 82.31278655119715\n"
          ],
          "name": "stdout"
        }
      ]
    },
    {
      "cell_type": "code",
      "metadata": {
        "id": "guQpXLHMbLiR",
        "colab_type": "code",
        "colab": {
          "base_uri": "https://localhost:8080/",
          "height": 35
        },
        "outputId": "6eeb3a60-cdaf-4d7f-a34f-072550e666a2"
      },
      "source": [
        "!md5sum \"Bert_model.pt\""
      ],
      "execution_count": 60,
      "outputs": [
        {
          "output_type": "stream",
          "text": [
            "1ac88f0b1cf52a658d4f1997375b5972  Bert_model.pt\n"
          ],
          "name": "stdout"
        }
      ]
    },
    {
      "cell_type": "code",
      "metadata": {
        "id": "M9GHw24nc77D",
        "colab_type": "code",
        "colab": {}
      },
      "source": [
        ""
      ],
      "execution_count": 0,
      "outputs": []
    }
  ]
}